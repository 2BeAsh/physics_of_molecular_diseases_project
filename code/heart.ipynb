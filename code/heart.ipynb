{
 "cells": [
  {
   "cell_type": "code",
   "execution_count": 2,
   "metadata": {},
   "outputs": [],
   "source": [
    "import numpy as np\n",
    "import matplotlib.pyplot as plt\n",
    "from matplotlib.animation import FuncAnimation\n",
    "# import general_functions as gf\n",
    "from tqdm import tqdm"
   ]
  },
  {
   "cell_type": "code",
   "execution_count": 3,
   "metadata": {},
   "outputs": [],
   "source": [
    "# Parameter values\n",
    "# State values\n",
    "tau = 50\n",
    "refractory_state = tau\n",
    "resting_state = 0\n",
    "excited_state = -tau\n",
    "# Dysfunctional values\n",
    "dysfunctional_value = 1\n",
    "not_dysfunctional_value = 0\n",
    "# Connected to above or not\n",
    "connected_above_value = 1\n",
    "not_connected_above_value = 0\n",
    "# Info\n",
    "info_state_idx = 0\n",
    "info_dysfuntional_idx = 1\n",
    "info_connected_above_idx = 2"
   ]
  },
  {
   "cell_type": "code",
   "execution_count": 7,
   "metadata": {},
   "outputs": [],
   "source": [
    "def initial_structure(L, nu, delta):\n",
    "    # L: int - length of cell sheet\n",
    "    # nu: float - probability for cell to be connected to the cell above it\n",
    "    # delta: float - probablity to be dysfunctional\n",
    "\n",
    "    # Cell info consists of three LxL matrices containing the following:\n",
    "        # State: resting, excited, refractory\n",
    "        # Dysfunctional or not\n",
    "        # Connected to above or not\n",
    "\n",
    "    cell_info = np.empty((L, L, 3))\n",
    "    # States\n",
    "    cell_info[:, :, info_state_idx] = resting_state\n",
    "    cell_info[:, 0, info_state_idx] = excited_state  # Left boundary is pacemaker.\n",
    "    # Dysfunctional\n",
    "    cell_info[:, :, info_dysfuntional_idx] = np.random.choice(a=[dysfunctional_value, not_dysfunctional_value], p=[delta, 1-delta], replace=True, size=(L, L))\n",
    "    # Connected to above\n",
    "    cell_info[:, :, info_connected_above_idx] = np.random.choice(a=[connected_above_value, not_connected_above_value], p=[nu, 1-nu], replace=True, size=(L, L))\n",
    "\n",
    "    return cell_info\n",
    "\n",
    "\n",
    "def excite_nbors(target_idx, cell_info, epsilon):\n",
    "    # Find and potentially excite neighbours\n",
    "    L = np.shape(cell_info)[0]\n",
    "    \n",
    "    x = target_idx[0]\n",
    "    y = target_idx[1]\n",
    "    \n",
    "    nbor_left = (x, max(y - 1, 0))\n",
    "    nbor_right = (x, min(y + 1, L - 1))\n",
    "    \n",
    "    nbor_down = ((x + L + 1) % L, y)\n",
    "    nbor_up = ((x + L - 1) % L, y)\n",
    "    \n",
    "    \n",
    "    # Open boundary for horizontal direction\n",
    "    # Periodic boundary for vertical direction\n",
    "    # Check if vertically connected. If not, set \"neighbour\" to be itself\n",
    "\n",
    "    if cell_info[*nbor_up, info_connected_above_idx] == not_connected_above_value:\n",
    "        nbor_up = (x, y)\n",
    "    if cell_info[*target_idx, info_connected_above_idx] == not_connected_above_value:\n",
    "        nbor_down = (x, y)\n",
    "\n",
    "    # Excite neighbours which are in relaxed state.\n",
    "    # Take dysfunctional cells into account\n",
    "    for nbor_idx in [nbor_left, nbor_right, nbor_down, nbor_up]:\n",
    "        nbor_state = cell_info[*nbor_idx, info_state_idx]\n",
    "        nbor_dysfunctional = cell_info[*nbor_idx, info_dysfuntional_idx]\n",
    "        if nbor_state == resting_state:\n",
    "            nbor_state_value = excited_state\n",
    "            \n",
    "            random_number = np.random.uniform(low=0, high=1)\n",
    "            did_not_work = random_number < epsilon\n",
    "            if nbor_dysfunctional == dysfunctional_value and did_not_work:\n",
    "                nbor_state_value = cell_info[*nbor_idx, info_state_idx]\n",
    "                \n",
    "            cell_info[*nbor_idx, info_state_idx] = nbor_state_value\n",
    "            \n",
    "\n",
    "def reduce_refractory(cell_info):\n",
    "    # get all refractory sites and reduce their value by 1\n",
    "    refractory_idx = np.nonzero(cell_info[:, :, info_state_idx] > resting_state)\n",
    "    cell_info[*refractory_idx, info_state_idx] -= 1\n",
    "\n",
    "\n",
    "def pacemaker_activation(t: int, cell_info: np.ndarray, T=40):\n",
    "    \"\"\"Every T time steps, activate the pacemaker (the leftmost column).\n",
    "\n",
    "    Args:\n",
    "        t (int): Current time\n",
    "        cell_info (np.ndarray): Cell state and more\n",
    "        T (_type_, optional): How often the pacemaker activates. Defaults to int.\n",
    "    \"\"\"\n",
    "    if t % T == 0:\n",
    "        # NOTE Take dysfunctional into account\n",
    "        cell_info[:, 0, info_state_idx] = excited_state  # Left boundary\n",
    "\n",
    "\n",
    "def evolve(L: int, nu: float, delta: float, epsilon: float, tmax: int) -> np.ndarray:\n",
    "    \"\"\"AF heart simulation.\n",
    "\n",
    "    Args:\n",
    "        L (int): Length/Height of the 2d cell sheet\n",
    "        nu (float): Probability of having a vertical cell connection\n",
    "        delta (float): Fraction of dysfunctional cells\n",
    "        epsilon (float): Probability of dysfunctional cell of not responding to excitement\n",
    "        tmax (int): How many time steps to run the simulation for\n",
    "    Returns:\n",
    "        np.ndarray: Cell state history\n",
    "    \"\"\"\n",
    "    cell_info = initial_structure(L, nu, delta)\n",
    "    excited_cells_idx = np.where(cell_info[:, :, info_state_idx] == excited_state)\n",
    "    cell_state_history = np.empty((L, L, tmax))\n",
    "    cell_state_history[:, :, 0] = cell_info[:, :, info_state_idx]\n",
    "\n",
    "    for t in tqdm(range(1, tmax)):\n",
    "        # For each excited cell, attempt to excite its neighbours, then set the excited to refractory\n",
    "        for i in range(np.shape(excited_cells_idx)[1]):\n",
    "            cell_idx = (excited_cells_idx[0][i], excited_cells_idx[1][i])\n",
    "            excite_nbors(cell_idx, cell_info, epsilon)\n",
    "            cell_info[*cell_idx, info_state_idx] = refractory_state\n",
    "\n",
    "        # Reduce refractory period\n",
    "        reduce_refractory(cell_info)\n",
    "\n",
    "        # Check for pacemaker activation\n",
    "        pacemaker_activation(t, cell_info)\n",
    "\n",
    "        # Find the new excited cells and store current state in history\n",
    "        excited_cells_idx = np.where(cell_info[:, :, info_state_idx] == excited_state)\n",
    "        cell_state_history[:, :, t] = cell_info[:, :, info_state_idx]\n",
    "\n",
    "    # ADD save to file\n",
    "\n",
    "    return cell_state_history\n",
    "\n",
    "\n",
    "def plot_initial_final(L: int, nu: float, delta: float, epsilon: float, tmax: int) -> None:\n",
    "    cell_state_history = evolve(L, nu, delta, epsilon, tmax)\n",
    "\n",
    "    initial_state = cell_state_history[:, :, 0]\n",
    "    final_state = cell_state_history[:, :, -1]\n",
    "\n",
    "    fig, (ax, ax1) = plt.subplots(ncols=2)\n",
    "    ax.imshow(initial_state, vmin=excited_state, vmax=refractory_state, cmap=\"hot\")\n",
    "    im = ax1.imshow(final_state, vmin=excited_state, vmax=refractory_state, cmap=\"hot\")\n",
    "    ax.set(title=\"Initial\")\n",
    "    ax1.set(title=\"Final\")\n",
    "\n",
    "    cbar = fig.colorbar(im)\n",
    "    cbar.set_ticks([excited_state, resting_state, refractory_state])\n",
    "    cbar.set_ticklabels([\"Excited\", \"Resting\", \"Refractory\"])\n",
    "    # Figtitle\n",
    "    fig.suptitle(f\"Time = {np.shape(cell_state_history)[2]}\")\n",
    "\n",
    "    # figname = dir_path_image + \"image_plot.png\"\n",
    "    # plt.savefig(figname)\n",
    "    plt.show()\n",
    "\n",
    "\n",
    "def animate_state(L: int, nu: float, delta: float, epsilon: float, tmax: int) -> None:\n",
    "    cell_state_history = evolve(L, nu, delta, epsilon, tmax)\n",
    "\n",
    "    fig, ax = plt.subplots()\n",
    "    im = ax.imshow(cell_state_history[:, :, 0], cmap=\"hot\", vmin=excited_state, vmax=refractory_state)\n",
    "    cbar = fig.colorbar(im)\n",
    "    cbar.set_ticks([excited_state, resting_state, refractory_state])\n",
    "    cbar.set_ticklabels([\"Excited\", \"Resting\", \"Refractory\"])\n",
    "\n",
    "    def animate(i):\n",
    "        current_image = cell_state_history[:, :, i]\n",
    "        ax.set_title(f\"Time = {i}\")\n",
    "        im.set_array(current_image)\n",
    "        return [im]\n",
    "\n",
    "    anim = FuncAnimation(fig, animate, interval=100, frames=tmax)\n",
    "    anim.save('heart_animation.gif', dpi=100)\n",
    "    plt.show()"
   ]
  },
  {
   "cell_type": "code",
   "execution_count": 8,
   "metadata": {},
   "outputs": [
    {
     "name": "stderr",
     "output_type": "stream",
     "text": [
      "100%|████████████████████████████████████████████████████████████████████████████████| 99/99 [00:00<00:00, 2314.84it/s]\n",
      "MovieWriter ffmpeg unavailable; using Pillow instead.\n"
     ]
    },
    {
     "data": {
      "image/png": "[encoded data removed]",
      "text/plain": [
       "<Figure size 640x480 with 2 Axes>"
      ]
     },
     "metadata": {},
     "output_type": "display_data"
    }
   ],
   "source": [
    "# plot_initial_final(L=50, nu=1, delta=0, epsilon=0, tmax=100)\n",
    "animate_state(L=50, nu=1, delta=0, epsilon=0, tmax=100)"
   ]
  },
  {
   "cell_type": "code",
   "execution_count": null,
   "metadata": {},
   "outputs": [],
   "source": []
  },
  {
   "cell_type": "code",
   "execution_count": null,
   "metadata": {},
   "outputs": [],
   "source": []
  },
  {
   "cell_type": "code",
   "execution_count": null,
   "metadata": {},
   "outputs": [],
   "source": []
  },
  {
   "cell_type": "code",
   "execution_count": null,
   "metadata": {},
   "outputs": [],
   "source": []
  },
  {
   "cell_type": "code",
   "execution_count": null,
   "metadata": {},
   "outputs": [],
   "source": []
  },
  {
   "cell_type": "code",
   "execution_count": null,
   "metadata": {},
   "outputs": [],
   "source": []
  },
  {
   "cell_type": "code",
   "execution_count": null,
   "metadata": {},
   "outputs": [],
   "source": []
  },
  {
   "cell_type": "code",
   "execution_count": null,
   "metadata": {},
   "outputs": [],
   "source": []
  },
  {
   "cell_type": "code",
   "execution_count": null,
   "metadata": {},
   "outputs": [],
   "source": []
  },
  {
   "cell_type": "code",
   "execution_count": null,
   "metadata": {},
   "outputs": [],
   "source": []
  },
  {
   "cell_type": "code",
   "execution_count": null,
   "metadata": {},
   "outputs": [],
   "source": []
  },
  {
   "cell_type": "code",
   "execution_count": null,
   "metadata": {},
   "outputs": [],
   "source": []
  },
  {
   "cell_type": "code",
   "execution_count": null,
   "metadata": {},
   "outputs": [],
   "source": []
  },
  {
   "cell_type": "code",
   "execution_count": null,
   "metadata": {},
   "outputs": [],
   "source": []
  },
  {
   "cell_type": "code",
   "execution_count": null,
   "metadata": {},
   "outputs": [],
   "source": []
  },
  {
   "cell_type": "code",
   "execution_count": null,
   "metadata": {},
   "outputs": [],
   "source": []
  },
  {
   "cell_type": "code",
   "execution_count": null,
   "metadata": {},
   "outputs": [],
   "source": []
  },
  {
   "cell_type": "code",
   "execution_count": null,
   "metadata": {},
   "outputs": [],
   "source": []
  },
  {
   "cell_type": "code",
   "execution_count": null,
   "metadata": {},
   "outputs": [],
   "source": []
  }
 ],
 "metadata": {
  "kernelspec": {
   "display_name": "Python 3 (ipykernel)",
   "language": "python",
   "name": "python3"
  },
  "language_info": {
   "codemirror_mode": {
    "name": "ipython",
    "version": 3
   },
   "file_extension": ".py",
   "mimetype": "text/x-python",
   "name": "python",
   "nbconvert_exporter": "python",
   "pygments_lexer": "ipython3",
   "version": "3.11.7"
  }
 },
 "nbformat": 4,
 "nbformat_minor": 2
}
